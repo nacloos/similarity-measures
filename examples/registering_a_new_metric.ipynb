{
 "cells": [
  {
   "cell_type": "code",
   "execution_count": 27,
   "metadata": {},
   "outputs": [],
   "source": [
    "%reload_ext autoreload\n",
    "%autoreload 2"
   ]
  },
  {
   "cell_type": "code",
   "execution_count": 28,
   "metadata": {},
   "outputs": [],
   "source": [
    "import numpy as np\n",
    "import similarity"
   ]
  },
  {
   "cell_type": "code",
   "execution_count": 30,
   "metadata": {},
   "outputs": [
    {
     "name": "stdout",
     "output_type": "stream",
     "text": [
      "OrderedDict([('x', <Parameter \"x\">), ('y', <Parameter \"y\">), ('param', <Parameter \"param=None\">)])\n"
     ]
    },
    {
     "ename": "AssertionError",
     "evalue": "",
     "output_type": "error",
     "traceback": [
      "\u001b[1;31m---------------------------------------------------------------------------\u001b[0m",
      "\u001b[1;31mAssertionError\u001b[0m                            Traceback (most recent call last)",
      "\u001b[1;32mc:\\Users\\Nathan Cloos\\Documents\\Research\\Code\\similarity-measures\\examples\\registering_a_new_metric.ipynb Cell 3\u001b[0m line \u001b[0;36m2\n\u001b[0;32m      <a href='vscode-notebook-cell:/c%3A/Users/Nathan%20Cloos/Documents/Research/Code/similarity-measures/examples/registering_a_new_metric.ipynb#W1sZmlsZQ%3D%3D?line=3'>4</a>\u001b[0m     \u001b[39mreturn\u001b[39;00m x\u001b[39m.\u001b[39mreshape(\u001b[39m-\u001b[39m\u001b[39m1\u001b[39m) \u001b[39m@\u001b[39m y\u001b[39m.\u001b[39mreshape(\u001b[39m-\u001b[39m\u001b[39m1\u001b[39m) \u001b[39m/\u001b[39m (np\u001b[39m.\u001b[39mlinalg\u001b[39m.\u001b[39mnorm(x) \u001b[39m*\u001b[39m np\u001b[39m.\u001b[39mlinalg\u001b[39m.\u001b[39mnorm(y))\n\u001b[0;32m      <a href='vscode-notebook-cell:/c%3A/Users/Nathan%20Cloos/Documents/Research/Code/similarity-measures/examples/registering_a_new_metric.ipynb#W1sZmlsZQ%3D%3D?line=5'>6</a>\u001b[0m \u001b[39m# similarity.register(\"measure.my_metric\")({\u001b[39;00m\n\u001b[0;32m      <a href='vscode-notebook-cell:/c%3A/Users/Nathan%20Cloos/Documents/Research/Code/similarity-measures/examples/registering_a_new_metric.ipynb#W1sZmlsZQ%3D%3D?line=6'>7</a>\u001b[0m \u001b[39m#     \"_target_\": \"similarity.Metric\",\u001b[39;00m\n\u001b[0;32m      <a href='vscode-notebook-cell:/c%3A/Users/Nathan%20Cloos/Documents/Research/Code/similarity-measures/examples/registering_a_new_metric.ipynb#W1sZmlsZQ%3D%3D?line=7'>8</a>\u001b[0m \u001b[39m#     \"metric\": None,\u001b[39;00m\n\u001b[1;32m   (...)\u001b[0m\n\u001b[0;32m     <a href='vscode-notebook-cell:/c%3A/Users/Nathan%20Cloos/Documents/Research/Code/similarity-measures/examples/registering_a_new_metric.ipynb#W1sZmlsZQ%3D%3D?line=20'>21</a>\u001b[0m \u001b[39m#     \"out_keys\": [\"score\"]\u001b[39;00m\n\u001b[0;32m     <a href='vscode-notebook-cell:/c%3A/Users/Nathan%20Cloos/Documents/Research/Code/similarity-measures/examples/registering_a_new_metric.ipynb#W1sZmlsZQ%3D%3D?line=21'>22</a>\u001b[0m \u001b[39m# })\u001b[39;00m\n\u001b[1;32m---> <a href='vscode-notebook-cell:/c%3A/Users/Nathan%20Cloos/Documents/Research/Code/similarity-measures/examples/registering_a_new_metric.ipynb#W1sZmlsZQ%3D%3D?line=22'>23</a>\u001b[0m similarity\u001b[39m.\u001b[39;49mregister(my_metric, \u001b[39m\"\u001b[39;49m\u001b[39mmeasure.my_metric.fit_score\u001b[39;49m\u001b[39m\"\u001b[39;49m)\n\u001b[0;32m     <a href='vscode-notebook-cell:/c%3A/Users/Nathan%20Cloos/Documents/Research/Code/similarity-measures/examples/registering_a_new_metric.ipynb#W1sZmlsZQ%3D%3D?line=24'>25</a>\u001b[0m \u001b[39mprint\u001b[39m(similarity\u001b[39m.\u001b[39mmake(\u001b[39m\"\u001b[39m\u001b[39mmeasure.my_metric.fit_score\u001b[39m\u001b[39m\"\u001b[39m))\n\u001b[0;32m     <a href='vscode-notebook-cell:/c%3A/Users/Nathan%20Cloos/Documents/Research/Code/similarity-measures/examples/registering_a_new_metric.ipynb#W1sZmlsZQ%3D%3D?line=25'>26</a>\u001b[0m metric \u001b[39m=\u001b[39m similarity\u001b[39m.\u001b[39mmake(\u001b[39m\"\u001b[39m\u001b[39mmeasure.my_metric\u001b[39m\u001b[39m\"\u001b[39m)\n",
      "File \u001b[1;32mc:\\users\\nathan cloos\\documents\\research\\code\\similarity-measures\\similarity\\__init__.py:104\u001b[0m, in \u001b[0;36mregister\u001b[1;34m(obj, id, **kwargs)\u001b[0m\n\u001b[0;32m    102\u001b[0m \u001b[39mprint\u001b[39m(params)\n\u001b[0;32m    103\u001b[0m \u001b[39m# measure function should have 2 arguments\u001b[39;00m\n\u001b[1;32m--> 104\u001b[0m \u001b[39massert\u001b[39;00m \u001b[39mlen\u001b[39m(params) \u001b[39m==\u001b[39m \u001b[39m2\u001b[39m\n\u001b[0;32m    105\u001b[0m input_names \u001b[39m=\u001b[39m \u001b[39mlist\u001b[39m(params\u001b[39m.\u001b[39mkeys())\n\u001b[0;32m    106\u001b[0m \u001b[39m# assume first agrument is X, second is Y\u001b[39;00m\n",
      "\u001b[1;31mAssertionError\u001b[0m: "
     ]
    }
   ],
   "source": [
    "def my_metric(x, y, param=None):\n",
    "    if param is not None:\n",
    "        return param\n",
    "    return x.reshape(-1) @ y.reshape(-1) / (np.linalg.norm(x) * np.linalg.norm(y))\n",
    "\n",
    "# similarity.register(\"measure.my_metric\")({\n",
    "#     \"_target_\": \"similarity.Metric\",\n",
    "#     \"metric\": None,\n",
    "#     \"fit_score\": {\n",
    "#         \"_target_\": \"config_utils.DictModule\",\n",
    "#         \"module\": my_metric,\n",
    "#         \"in_keys\": [[\"X\", \"x\"], [\"Y\", \"y\"]],\n",
    "#         \"out_keys\": [\"score\"]\n",
    "#     }\n",
    "# })\n",
    "\n",
    "# similarity.register(\"measure.my_metric.fit_score\")({\n",
    "#     \"_target_\": \"config_utils.DictModule\",\n",
    "#     \"module\": my_metric,\n",
    "#     \"in_keys\": [[\"X\", \"x\"], [\"Y\", \"y\"]],\n",
    "#     \"out_keys\": [\"score\"]\n",
    "# })\n",
    "similarity.register(my_metric, \"measure.my_metric.fit_score\")\n",
    "\n",
    "print(similarity.make(\"measure.my_metric.fit_score\"))\n",
    "metric = similarity.make(\"measure.my_metric\")\n",
    "print(metric)\n",
    "\n",
    "X, Y = np.random.randn(100, 30), np.random.randn(100, 30)\n",
    "print(metric.fit_score(X, Y))"
   ]
  },
  {
   "cell_type": "code",
   "execution_count": 36,
   "metadata": {},
   "outputs": [
    {
     "name": "stdout",
     "output_type": "stream",
     "text": [
      "OrderedDict([('x', <Parameter \"x\">), ('y', <Parameter \"y\">), ('param', <Parameter \"param=None\">)])\n",
      "{'x': 1}\n",
      "DictModule(\n",
      "  module=<function my_metric at 0x000001C2381B6430>\n",
      "  file=\"C:\\Users\\Nathan Cloos\\AppData\\Local\\Temp\\ipykernel_11024\\75367330.py\"\n",
      "  in_keys=[['X', 'x'], ['Y', 'y']]\n",
      "  out_keys=['score']\n",
      ")\n",
      "{'score': 0.02129918535696253}\n",
      "{'score': 1.0}\n"
     ]
    }
   ],
   "source": [
    "similarity.register(my_metric, \"measure.test\")\n",
    "test_metric = similarity.make(\"measure.test\")\n",
    "print(test_metric)\n",
    "print(test_metric(X=X, Y=Y))\n",
    "# TODO: allow args\n",
    "print(test_metric(X, X=Y, Y=Y))"
   ]
  },
  {
   "cell_type": "code",
   "execution_count": 42,
   "metadata": {},
   "outputs": [
    {
     "data": {
      "text/plain": [
       "{'score': 20}"
      ]
     },
     "execution_count": 42,
     "metadata": {},
     "output_type": "execute_result"
    }
   ],
   "source": [
    "# simply register as a function\n",
    "similarity.register(my_metric, \"measure.my_metric-param10\", param=10)\n",
    "metric = similarity.make(\"measure.my_metric-param10\")\n",
    "metric(X, Y)\n",
    "\n",
    "# register measure as a class where fit_score method (useful to have a common interface)\n",
    "similarity.register(my_metric, \"measure.my_metric-param20.fit_score\", param=20)\n",
    "metric = similarity.make(\"measure.my_metric-param20\")\n",
    "metric.fit_score(X, Y)"
   ]
  },
  {
   "cell_type": "code",
   "execution_count": 64,
   "metadata": {},
   "outputs": [
    {
     "name": "stdout",
     "output_type": "stream",
     "text": [
      "['self', 'x', 'y']\n",
      "['self', 'x', 'y']\n",
      "['self', 'x', 'y']\n"
     ]
    }
   ],
   "source": [
    "# register a class\n",
    "# @similarity.register(\n",
    "#     \"measure.my_metric2\",\n",
    "#     interface={\n",
    "#         \"fit_score\": \"__call__\"\n",
    "#     },\n",
    "#     alpha=1.0\n",
    "# )\n",
    "class MyMetric2:\n",
    "    def __init__(self, alpha):\n",
    "        self.alpha = alpha  # TODO\n",
    "\n",
    "    # @similarity.register(\"measure.my_metric2.fit\")\n",
    "    def fit(self, x, y):\n",
    "        pass\n",
    "\n",
    "    # @similarity.register(\"measure.my_metric2.fit_score\")\n",
    "    def fit_score(self, x, y):\n",
    "        # return x.reshape(-1) @ y.reshape(-1)\n",
    "        return self.alpha\n",
    "    \n",
    "\n",
    "similarity.register(MyMetric2, \"measure.my_metric2-alpha1\", alpha=1)\n",
    "similarity.register(MyMetric2, \"measure.my_metric2-alpha5e-1\", alpha=0.5)\n",
    "similarity.register(MyMetric2, \"measure.my_metric2-alpha0\", alpha=0)"
   ]
  },
  {
   "cell_type": "code",
   "execution_count": 65,
   "metadata": {},
   "outputs": [
    {
     "name": "stdout",
     "output_type": "stream",
     "text": [
      "DictModule(\n",
      "  module=<function MyMetric2.fit_score at 0x000001C238423940>\n",
      "  file=\"C:\\Users\\Nathan Cloos\\AppData\\Local\\Temp\\ipykernel_11024\\3270678386.py\"\n",
      "  in_keys=[['metric', 'self'], ['X', 'x'], ['Y', 'y']]\n",
      "  out_keys=['score']\n",
      ")\n",
      "{'score': 0.5}\n"
     ]
    }
   ],
   "source": [
    "metric = similarity.make(\"measure.my_metric2-alpha5e-1\")\n",
    "print(metric._fit_score)\n",
    "print(metric.fit_score(X, Y))"
   ]
  },
  {
   "cell_type": "code",
   "execution_count": 53,
   "metadata": {},
   "outputs": [
    {
     "name": "stdout",
     "output_type": "stream",
     "text": [
      "DictModule(\n",
      "  module=<function fit_my_metric at 0x000001C23842F790>\n",
      "  file=\"C:\\Users\\Nathan Cloos\\AppData\\Local\\Temp\\ipykernel_11024\\2271397120.py\"\n",
      "  in_keys=[['X', 'x'], ['Y', 'y']]\n",
      "  out_keys=['score']\n",
      ")\n",
      "DictModule(\n",
      "  module=<function fit_score_my_metric at 0x000001C2384CC670>\n",
      "  file=\"C:\\Users\\Nathan Cloos\\AppData\\Local\\Temp\\ipykernel_11024\\2271397120.py\"\n",
      "  in_keys=[['X', 'x'], ['Y', 'y']]\n",
      "  out_keys=['score']\n",
      ")\n",
      "{'score': 63.40865252067996}\n"
     ]
    }
   ],
   "source": [
    "# TODO: doesn't make sense to fit without storing state in \"self\"\n",
    "def fit_my_metric(x, y):\n",
    "    pass\n",
    "\n",
    "def fit_score_my_metric(x, y):\n",
    "    return x.reshape(-1) @ y.reshape(-1)\n",
    "\n",
    "similarity.register(fit_my_metric, \"measure.my_metric3.fit\")\n",
    "similarity.register(fit_score_my_metric, \"measure.my_metric3.fit_score\")\n",
    "metric3 = similarity.make(\"measure.my_metric3\")\n",
    "print(metric3._fit)\n",
    "print(metric3._fit_score)\n",
    "print(metric3.fit_score(X, Y))"
   ]
  },
  {
   "cell_type": "code",
   "execution_count": 18,
   "metadata": {},
   "outputs": [
    {
     "name": "stdout",
     "output_type": "stream",
     "text": [
      "defaultdict(<function <lambda> at 0x000001C2380A89D0>, {'measure': defaultdict(<function <lambda> at 0x000001C2380CB3A0>, {'my_metric': {'_target_': 'similarity.Metric', 'metric': None, 'fit_score': DictModule(\n",
      "  module=<function my_metric at 0x000001C2380FA4C0>\n",
      "  file=\"C:\\Users\\Nathan Cloos\\AppData\\Local\\Temp\\ipykernel_11024\\3656328089.py\"\n",
      "  in_keys=[['X', 'x'], ['Y', 'y']]\n",
      "  out_keys=['score']\n",
      "), 'fit': None, 'score': None}, 'test': DictModule(\n",
      "  module=<function my_metric at 0x000001C2380FA4C0>\n",
      "  file=\"C:\\Users\\Nathan Cloos\\AppData\\Local\\Temp\\ipykernel_11024\\3656328089.py\"\n",
      "  in_keys=[['X', 'x'], ['Y', 'y']]\n",
      "  out_keys=['score']\n",
      ")})})\n"
     ]
    }
   ],
   "source": [
    "print(similarity.registry)"
   ]
  },
  {
   "cell_type": "code",
   "execution_count": 11,
   "metadata": {},
   "outputs": [
    {
     "name": "stdout",
     "output_type": "stream",
     "text": [
      "{'_target_': 'similarity.Metric', 'metric': None, 'fit_score': DictModule(\n",
      "  module=<function my_metric at 0x000001C23807FB80>\n",
      "  file=\"C:\\Users\\Nathan Cloos\\AppData\\Local\\Temp\\ipykernel_11024\\2437551110.py\"\n",
      "  in_keys=[['X', 'x'], ['Y', 'y']]\n",
      "  out_keys=['score']\n",
      "), 'fit': None, 'score': None}\n",
      "Metric[fit(X, Y), score(X, Y), fit_score(X, Y)]\n"
     ]
    }
   ],
   "source": [
    "metric = similarity.make(\"measure.my_metric\")\n",
    "print(metric)"
   ]
  },
  {
   "cell_type": "code",
   "execution_count": 12,
   "metadata": {},
   "outputs": [
    {
     "name": "stdout",
     "output_type": "stream",
     "text": [
      "DictModule(\n",
      "  module=<function my_metric at 0x000001C23807FB80>\n",
      "  file=\"C:\\Users\\Nathan Cloos\\AppData\\Local\\Temp\\ipykernel_11024\\2437551110.py\"\n",
      "  in_keys=[['X', 'x'], ['Y', 'y']]\n",
      "  out_keys=['score']\n",
      ")\n"
     ]
    }
   ],
   "source": [
    "print(metric._fit_score)"
   ]
  },
  {
   "cell_type": "code",
   "execution_count": 13,
   "metadata": {},
   "outputs": [
    {
     "name": "stdout",
     "output_type": "stream",
     "text": [
      "{'score': -36.80423758361501}\n"
     ]
    }
   ],
   "source": [
    "X, Y = np.random.randn(100, 30), np.random.randn(100, 30)\n",
    "print(metric.fit_score(X, Y))\n"
   ]
  },
  {
   "cell_type": "code",
   "execution_count": null,
   "metadata": {},
   "outputs": [],
   "source": []
  },
  {
   "cell_type": "code",
   "execution_count": null,
   "metadata": {},
   "outputs": [],
   "source": []
  }
 ],
 "metadata": {
  "kernelspec": {
   "display_name": ".venv",
   "language": "python",
   "name": "python3"
  },
  "language_info": {
   "codemirror_mode": {
    "name": "ipython",
    "version": 3
   },
   "file_extension": ".py",
   "mimetype": "text/x-python",
   "name": "python",
   "nbconvert_exporter": "python",
   "pygments_lexer": "ipython3",
   "version": "3.9.8"
  }
 },
 "nbformat": 4,
 "nbformat_minor": 2
}
