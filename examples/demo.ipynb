{
 "cells": [
  {
   "cell_type": "code",
   "execution_count": 1,
   "metadata": {},
   "outputs": [],
   "source": [
    "%reload_ext autoreload\n",
    "%autoreload 2"
   ]
  },
  {
   "cell_type": "code",
   "execution_count": 2,
   "metadata": {},
   "outputs": [],
   "source": [
    "import similarity"
   ]
  },
  {
   "cell_type": "code",
   "execution_count": 3,
   "metadata": {},
   "outputs": [
    {
     "data": {
      "text/plain": [
       "Metric[fit(X, Y), score(X, Y), fit_score(X, Y)]"
      ]
     },
     "execution_count": 3,
     "metadata": {},
     "output_type": "execute_result"
    }
   ],
   "source": [
    "similarity.make(\"metric.rsa\")"
   ]
  },
  {
   "cell_type": "code",
   "execution_count": 4,
   "metadata": {},
   "outputs": [
    {
     "data": {
      "text/plain": [
       "['rsa-euclidean-cosine',\n",
       " 'rsa-euclidean-spearman',\n",
       " 'rsa-euclidean-corr',\n",
       " 'rsa-euclidean-kendall',\n",
       " 'rsa-euclidean-tau_b',\n",
       " 'rsa-euclidean-tau_a',\n",
       " 'rsa-euclidean-rho_a',\n",
       " 'rsa-euclidean-corr_cov',\n",
       " 'rsa-euclidean-cosine_cov',\n",
       " 'rsa-correlation-cosine',\n",
       " 'rsa-correlation-spearman',\n",
       " 'rsa-correlation-corr',\n",
       " 'rsa-correlation-kendall',\n",
       " 'rsa-correlation-tau_b',\n",
       " 'rsa-correlation-tau_a',\n",
       " 'rsa-correlation-rho_a',\n",
       " 'rsa-correlation-corr_cov',\n",
       " 'rsa-correlation-cosine_cov']"
      ]
     },
     "execution_count": 4,
     "metadata": {},
     "output_type": "execute_result"
    }
   ],
   "source": [
    "import jmespath\n",
    "api = similarity.make(None, return_config=True)\n",
    "jmespath.search(\"metric.keys(@)[?starts_with(@, 'rsa-')]\", api)\n",
    "\n"
   ]
  },
  {
   "cell_type": "code",
   "execution_count": 6,
   "metadata": {},
   "outputs": [
    {
     "data": {
      "text/plain": [
       "['permutation',\n",
       " 'cca',\n",
       " 'cca_mean_sq_corr',\n",
       " 'svcca',\n",
       " 'pwcca',\n",
       " 'procrustes',\n",
       " 'pls',\n",
       " 'linear_regression',\n",
       " 'max_match',\n",
       " 'rsa',\n",
       " 'cka',\n",
       " 'imd']"
      ]
     },
     "execution_count": 6,
     "metadata": {},
     "output_type": "execute_result"
    }
   ],
   "source": [
    "jmespath.search(\"metric.keys(@)[? !contains(@, '-')]\", api)\n",
    "# <=> similarity.make(\"metric\", defaults_only=True)"
   ]
  },
  {
   "cell_type": "code",
   "execution_count": 20,
   "metadata": {},
   "outputs": [
    {
     "name": "stdout",
     "output_type": "stream",
     "text": [
      "Metric[fit(X, Y), score(X, Y), fit_score(X, Y)]\n"
     ]
    }
   ],
   "source": [
    "metric = similarity.make(\"metric.rsa-correlation-spearman\")\n",
    "# similarity.make(\"metric.rsa-*\")\n",
    "print(metric)"
   ]
  },
  {
   "cell_type": "code",
   "execution_count": 21,
   "metadata": {},
   "outputs": [
    {
     "name": "stdout",
     "output_type": "stream",
     "text": [
      "Metric[fit(X, Y), score(X, Y), fit_score(X, Y)]\n"
     ]
    },
    {
     "data": {
      "text/plain": [
       "0.0"
      ]
     },
     "execution_count": 21,
     "metadata": {},
     "output_type": "execute_result"
    }
   ],
   "source": [
    "print(metric)\n",
    "import numpy as np\n",
    "X = np.array([[1, 2, 3], [4, 5, 6]])\n",
    "Y = np.array([[1, 2, 3], [4, 5, 6]])\n",
    "metric.fit_score(X, Y)"
   ]
  },
  {
   "cell_type": "code",
   "execution_count": 22,
   "metadata": {},
   "outputs": [],
   "source": [
    "metrics = similarity.make(\"metric\")"
   ]
  },
  {
   "cell_type": "code",
   "execution_count": null,
   "metadata": {},
   "outputs": [
    {
     "name": "stdout",
     "output_type": "stream",
     "text": [
      "{'permutation': Metric[fit(X, Y), score(X, Y), fit_score(X, Y)], 'cca': Metric[fit(X, Y), score(X, Y), fit_score(X, Y)], 'cca_mean_sq_corr': Metric[fit(X, Y), score(X, Y), fit_score(X, Y)], 'svcca': Metric[fit(X, Y), score(X, Y), fit_score(X, Y)], 'pwcca': Metric[fit(X, Y), score(X, Y), fit_score(X, Y)], 'procrustes': Metric[fit(X, Y), score(X, Y), fit_score(X, Y)], 'pls': Metric[fit(X, Y), score(X, Y), fit_score(X, Y)], 'linear_regression': Metric[fit(X, Y), score(X, Y), fit_score(X, Y)], 'max_match': Metric[fit(X, Y), score(X, Y), fit_score(X, Y)], 'rsa': Metric[fit(X, Y), score(X, Y), fit_score(X, Y)], 'cka': Metric[fit(X, Y), score(X, Y), fit_score(X, Y)], 'imd': Metric[fit(X, Y), score(X, Y), fit_score(X, Y)]}\n"
     ]
    }
   ],
   "source": [
    "print(metrics)"
   ]
  },
  {
   "cell_type": "code",
   "execution_count": null,
   "metadata": {},
   "outputs": [],
   "source": [
    "similarity.make(\"metric.\")"
   ]
  }
 ],
 "metadata": {
  "kernelspec": {
   "display_name": ".venv",
   "language": "python",
   "name": "python3"
  },
  "language_info": {
   "codemirror_mode": {
    "name": "ipython",
    "version": 3
   },
   "file_extension": ".py",
   "mimetype": "text/x-python",
   "name": "python",
   "nbconvert_exporter": "python",
   "pygments_lexer": "ipython3",
   "version": "3.9.8"
  }
 },
 "nbformat": 4,
 "nbformat_minor": 2
}
