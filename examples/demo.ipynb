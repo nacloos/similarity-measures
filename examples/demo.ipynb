{
 "cells": [
  {
   "cell_type": "code",
   "execution_count": 1,
   "metadata": {},
   "outputs": [],
   "source": [
    "%reload_ext autoreload\n",
    "%autoreload 2"
   ]
  },
  {
   "cell_type": "markdown",
   "metadata": {},
   "source": [
    "TODO: get all the measures that are metrics"
   ]
  },
  {
   "cell_type": "code",
   "execution_count": 2,
   "metadata": {},
   "outputs": [],
   "source": [
    "import similarity"
   ]
  },
  {
   "cell_type": "code",
   "execution_count": 3,
   "metadata": {},
   "outputs": [
    {
     "name": "stdout",
     "output_type": "stream",
     "text": [
      "cca []\n",
      "svcca ['permutation-invariant', 'scale-invariant', 'rotation-invariant', 'translation-invariant', 'score']\n",
      "pwcca ['scale-invariant', 'translation-invariant', 'score']\n",
      "procrustes-euclidean ['permutation-invariant', 'rotation-invariant', 'metric']\n",
      "procrustes-angular ['permutation-invariant', 'rotation-invariant', 'scale-invariant', 'metric']\n",
      "shape_metric-angular ['permutation-invariant', 'rotation-invariant', 'scaling-invariant', 'metric']\n",
      "rsa ['permutation-invariant', 'scale-invariant', 'translation-invariant', 'score']\n",
      "cka ['permutation-invariant', 'rotation-invariant', 'scale-invariant', 'translation-invariant', 'score']\n",
      "gs ['permutation-invariant', 'rotation-invariant', 'scale-invariant', 'translation-invariant']\n",
      "imd ['permutation-invariant', 'rotation-invariant', 'scale-invariant', 'translation-invariant']\n",
      "permutation []\n",
      "correlation []\n",
      "cca_mean_sq_corr []\n",
      "procrustes []\n",
      "pls []\n",
      "linear_regression []\n",
      "max_match []\n",
      "cka-angular []\n",
      "shape_metric-angular-alpha0e-1 []\n",
      "shape_metric-euclidean-alpha0e-1 []\n",
      "shape_metric-angular-alpha1e-1 []\n",
      "shape_metric-euclidean-alpha1e-1 []\n",
      "shape_metric-angular-alpha2e-1 []\n",
      "shape_metric-euclidean-alpha2e-1 []\n",
      "shape_metric-angular-alpha3e-1 []\n",
      "shape_metric-euclidean-alpha3e-1 []\n",
      "shape_metric-angular-alpha4e-1 []\n",
      "shape_metric-euclidean-alpha4e-1 []\n",
      "shape_metric-angular-alpha5e-1 []\n",
      "shape_metric-euclidean-alpha5e-1 []\n",
      "shape_metric-angular-alpha6e-1 []\n",
      "shape_metric-euclidean-alpha6e-1 []\n",
      "shape_metric-angular-alpha7e-1 []\n",
      "shape_metric-euclidean-alpha7e-1 []\n",
      "shape_metric-angular-alpha8e-1 []\n",
      "shape_metric-euclidean-alpha8e-1 []\n",
      "shape_metric-angular-alpha9e-1 []\n",
      "shape_metric-euclidean-alpha9e-1 []\n",
      "shape_metric-angular-alpha10e-1 []\n",
      "shape_metric-euclidean-alpha10e-1 []\n",
      "permutation-euclidean []\n",
      "permutation-angular []\n",
      "cca-euclidean []\n",
      "cca-angular []\n",
      "svcca-var95 []\n",
      "svcca-var99 []\n",
      "procrustes-sq-euclidean []\n",
      "rsa-euclidean-cosine []\n",
      "rsa-euclidean-spearman []\n",
      "rsa-euclidean-corr []\n",
      "rsa-euclidean-kendall []\n",
      "rsa-euclidean-tau_b []\n",
      "rsa-euclidean-tau_a []\n",
      "rsa-euclidean-rho_a []\n",
      "rsa-euclidean-corr_cov []\n",
      "rsa-euclidean-cosine_cov []\n",
      "rsa-correlation-cosine []\n",
      "rsa-correlation-spearman []\n",
      "rsa-correlation-corr []\n",
      "rsa-correlation-kendall []\n",
      "rsa-correlation-tau_b []\n",
      "rsa-correlation-tau_a []\n",
      "rsa-correlation-rho_a []\n",
      "rsa-correlation-corr_cov []\n",
      "rsa-correlation-cosine_cov []\n",
      "rsa-mahalanobis-cosine []\n",
      "rsa-mahalanobis-spearman []\n",
      "rsa-mahalanobis-corr []\n",
      "rsa-mahalanobis-kendall []\n",
      "rsa-mahalanobis-tau_b []\n",
      "rsa-mahalanobis-tau_a []\n",
      "rsa-mahalanobis-rho_a []\n",
      "rsa-mahalanobis-corr_cov []\n",
      "rtd ['permutation-invariant', 'rotation-invariant', 'scale-invariant', 'translation-invariant']\n",
      "rsa-mahalanobis-cosine_cov []\n"
     ]
    }
   ],
   "source": [
    "config = similarity.make(\"measure\", return_config=True)\n",
    "for k, cfg in config.items():\n",
    "    # print(k, cfg.keys())\n",
    "    print(k, cfg[\"properties\"])"
   ]
  },
  {
   "cell_type": "code",
   "execution_count": 4,
   "metadata": {},
   "outputs": [
    {
     "name": "stdout",
     "output_type": "stream",
     "text": [
      "['svcca', 'pwcca', 'rsa', 'cka']\n"
     ]
    }
   ],
   "source": [
    "score_measures = {\n",
    "  k: similarity.make(f\"measure.{k}\")\n",
    "  for k, cfg in similarity.make(\"measure\", return_config=True).items()\n",
    "  if \"score\" in cfg[\"properties\"]\n",
    "}\n",
    "print(list(score_measures.keys()))"
   ]
  },
  {
   "cell_type": "code",
   "execution_count": 5,
   "metadata": {},
   "outputs": [
    {
     "name": "stdout",
     "output_type": "stream",
     "text": [
      "['procrustes-euclidean', 'procrustes-angular', 'shape_metric-angular']\n"
     ]
    }
   ],
   "source": [
    "metrics = {\n",
    "  k: similarity.make(f\"measure.{k}\")\n",
    "  for k, cfg in similarity.make(\"measure\", return_config=True).items()\n",
    "  if \"metric\" in cfg[\"properties\"]\n",
    "}\n",
    "print(list(metrics.keys()))"
   ]
  },
  {
   "cell_type": "code",
   "execution_count": 6,
   "metadata": {},
   "outputs": [
    {
     "data": {
      "text/html": [
       "<div>\n",
       "<style scoped>\n",
       "    .dataframe tbody tr th:only-of-type {\n",
       "        vertical-align: middle;\n",
       "    }\n",
       "\n",
       "    .dataframe tbody tr th {\n",
       "        vertical-align: top;\n",
       "    }\n",
       "\n",
       "    .dataframe thead th {\n",
       "        text-align: right;\n",
       "    }\n",
       "</style>\n",
       "<table border=\"1\" class=\"dataframe\">\n",
       "  <thead>\n",
       "    <tr style=\"text-align: right;\">\n",
       "      <th></th>\n",
       "      <th>permutation-invariant</th>\n",
       "      <th>scale-invariant</th>\n",
       "      <th>rotation-invariant</th>\n",
       "      <th>invertible-linear-invariant</th>\n",
       "      <th>translation-invariant</th>\n",
       "      <th>affine-invariant</th>\n",
       "      <th>score</th>\n",
       "      <th>metric</th>\n",
       "    </tr>\n",
       "  </thead>\n",
       "  <tbody>\n",
       "    <tr>\n",
       "      <th>cca</th>\n",
       "      <td>False</td>\n",
       "      <td>False</td>\n",
       "      <td>False</td>\n",
       "      <td>False</td>\n",
       "      <td>False</td>\n",
       "      <td>False</td>\n",
       "      <td>False</td>\n",
       "      <td>False</td>\n",
       "    </tr>\n",
       "    <tr>\n",
       "      <th>svcca</th>\n",
       "      <td>True</td>\n",
       "      <td>True</td>\n",
       "      <td>True</td>\n",
       "      <td>False</td>\n",
       "      <td>True</td>\n",
       "      <td>False</td>\n",
       "      <td>True</td>\n",
       "      <td>False</td>\n",
       "    </tr>\n",
       "    <tr>\n",
       "      <th>pwcca</th>\n",
       "      <td>False</td>\n",
       "      <td>True</td>\n",
       "      <td>False</td>\n",
       "      <td>False</td>\n",
       "      <td>True</td>\n",
       "      <td>False</td>\n",
       "      <td>True</td>\n",
       "      <td>False</td>\n",
       "    </tr>\n",
       "    <tr>\n",
       "      <th>rsa</th>\n",
       "      <td>True</td>\n",
       "      <td>True</td>\n",
       "      <td>False</td>\n",
       "      <td>False</td>\n",
       "      <td>True</td>\n",
       "      <td>False</td>\n",
       "      <td>True</td>\n",
       "      <td>False</td>\n",
       "    </tr>\n",
       "    <tr>\n",
       "      <th>cka</th>\n",
       "      <td>True</td>\n",
       "      <td>True</td>\n",
       "      <td>True</td>\n",
       "      <td>False</td>\n",
       "      <td>True</td>\n",
       "      <td>False</td>\n",
       "      <td>True</td>\n",
       "      <td>False</td>\n",
       "    </tr>\n",
       "    <tr>\n",
       "      <th>gs</th>\n",
       "      <td>True</td>\n",
       "      <td>True</td>\n",
       "      <td>True</td>\n",
       "      <td>False</td>\n",
       "      <td>True</td>\n",
       "      <td>False</td>\n",
       "      <td>False</td>\n",
       "      <td>False</td>\n",
       "    </tr>\n",
       "    <tr>\n",
       "      <th>imd</th>\n",
       "      <td>True</td>\n",
       "      <td>True</td>\n",
       "      <td>True</td>\n",
       "      <td>False</td>\n",
       "      <td>True</td>\n",
       "      <td>False</td>\n",
       "      <td>False</td>\n",
       "      <td>False</td>\n",
       "    </tr>\n",
       "    <tr>\n",
       "      <th>permutation</th>\n",
       "      <td>False</td>\n",
       "      <td>False</td>\n",
       "      <td>False</td>\n",
       "      <td>False</td>\n",
       "      <td>False</td>\n",
       "      <td>False</td>\n",
       "      <td>False</td>\n",
       "      <td>False</td>\n",
       "    </tr>\n",
       "    <tr>\n",
       "      <th>correlation</th>\n",
       "      <td>False</td>\n",
       "      <td>False</td>\n",
       "      <td>False</td>\n",
       "      <td>False</td>\n",
       "      <td>False</td>\n",
       "      <td>False</td>\n",
       "      <td>False</td>\n",
       "      <td>False</td>\n",
       "    </tr>\n",
       "    <tr>\n",
       "      <th>cca_mean_sq_corr</th>\n",
       "      <td>False</td>\n",
       "      <td>False</td>\n",
       "      <td>False</td>\n",
       "      <td>False</td>\n",
       "      <td>False</td>\n",
       "      <td>False</td>\n",
       "      <td>False</td>\n",
       "      <td>False</td>\n",
       "    </tr>\n",
       "    <tr>\n",
       "      <th>procrustes</th>\n",
       "      <td>False</td>\n",
       "      <td>False</td>\n",
       "      <td>False</td>\n",
       "      <td>False</td>\n",
       "      <td>False</td>\n",
       "      <td>False</td>\n",
       "      <td>False</td>\n",
       "      <td>False</td>\n",
       "    </tr>\n",
       "    <tr>\n",
       "      <th>pls</th>\n",
       "      <td>False</td>\n",
       "      <td>False</td>\n",
       "      <td>False</td>\n",
       "      <td>False</td>\n",
       "      <td>False</td>\n",
       "      <td>False</td>\n",
       "      <td>False</td>\n",
       "      <td>False</td>\n",
       "    </tr>\n",
       "    <tr>\n",
       "      <th>linear_regression</th>\n",
       "      <td>False</td>\n",
       "      <td>False</td>\n",
       "      <td>False</td>\n",
       "      <td>False</td>\n",
       "      <td>False</td>\n",
       "      <td>False</td>\n",
       "      <td>False</td>\n",
       "      <td>False</td>\n",
       "    </tr>\n",
       "    <tr>\n",
       "      <th>max_match</th>\n",
       "      <td>False</td>\n",
       "      <td>False</td>\n",
       "      <td>False</td>\n",
       "      <td>False</td>\n",
       "      <td>False</td>\n",
       "      <td>False</td>\n",
       "      <td>False</td>\n",
       "      <td>False</td>\n",
       "    </tr>\n",
       "    <tr>\n",
       "      <th>rtd</th>\n",
       "      <td>True</td>\n",
       "      <td>True</td>\n",
       "      <td>True</td>\n",
       "      <td>False</td>\n",
       "      <td>True</td>\n",
       "      <td>False</td>\n",
       "      <td>False</td>\n",
       "      <td>False</td>\n",
       "    </tr>\n",
       "  </tbody>\n",
       "</table>\n",
       "</div>"
      ],
      "text/plain": [
       "                   permutation-invariant  scale-invariant  rotation-invariant  \\\n",
       "cca                                False            False               False   \n",
       "svcca                               True             True                True   \n",
       "pwcca                              False             True               False   \n",
       "rsa                                 True             True               False   \n",
       "cka                                 True             True                True   \n",
       "gs                                  True             True                True   \n",
       "imd                                 True             True                True   \n",
       "permutation                        False            False               False   \n",
       "correlation                        False            False               False   \n",
       "cca_mean_sq_corr                   False            False               False   \n",
       "procrustes                         False            False               False   \n",
       "pls                                False            False               False   \n",
       "linear_regression                  False            False               False   \n",
       "max_match                          False            False               False   \n",
       "rtd                                 True             True                True   \n",
       "\n",
       "                   invertible-linear-invariant  translation-invariant  \\\n",
       "cca                                      False                  False   \n",
       "svcca                                    False                   True   \n",
       "pwcca                                    False                   True   \n",
       "rsa                                      False                   True   \n",
       "cka                                      False                   True   \n",
       "gs                                       False                   True   \n",
       "imd                                      False                   True   \n",
       "permutation                              False                  False   \n",
       "correlation                              False                  False   \n",
       "cca_mean_sq_corr                         False                  False   \n",
       "procrustes                               False                  False   \n",
       "pls                                      False                  False   \n",
       "linear_regression                        False                  False   \n",
       "max_match                                False                  False   \n",
       "rtd                                      False                   True   \n",
       "\n",
       "                   affine-invariant  score  metric  \n",
       "cca                           False  False   False  \n",
       "svcca                         False   True   False  \n",
       "pwcca                         False   True   False  \n",
       "rsa                           False   True   False  \n",
       "cka                           False   True   False  \n",
       "gs                            False  False   False  \n",
       "imd                           False  False   False  \n",
       "permutation                   False  False   False  \n",
       "correlation                   False  False   False  \n",
       "cca_mean_sq_corr              False  False   False  \n",
       "procrustes                    False  False   False  \n",
       "pls                           False  False   False  \n",
       "linear_regression             False  False   False  \n",
       "max_match                     False  False   False  \n",
       "rtd                           False  False   False  "
      ]
     },
     "execution_count": 6,
     "metadata": {},
     "output_type": "execute_result"
    }
   ],
   "source": [
    "import pandas as pd\n",
    "# TODO: default only (no '-')\n",
    "measure_cards = similarity.make(\"measure\", return_config=True)\n",
    "measure_cards = {k: cfg\n",
    "    for k, cfg in measure_cards.items()if \"-\" not in k}\n",
    "\n",
    "properties = similarity.make(\"property\")\n",
    "\n",
    "measure_properties = {}\n",
    "for prop in properties.keys():\n",
    "    measure_properties[prop] = {}\n",
    "    for measure, cfg in measure_cards.items():\n",
    "        measure_properties[prop][measure] = prop in cfg[\"properties\"]\n",
    "    \n",
    "measure_props_df = pd.DataFrame.from_dict(measure_properties)\n",
    "\n",
    "measure_props_df"
   ]
  },
  {
   "cell_type": "code",
   "execution_count": 12,
   "metadata": {},
   "outputs": [
    {
     "data": {
      "text/plain": [
       "Metric[fit(X, Y), score(X, Y), fit_score(X, Y)]"
      ]
     },
     "execution_count": 12,
     "metadata": {},
     "output_type": "execute_result"
    }
   ],
   "source": [
    "similarity.make(\"metric.rsa\")"
   ]
  },
  {
   "cell_type": "code",
   "execution_count": 4,
   "metadata": {},
   "outputs": [
    {
     "data": {
      "text/plain": [
       "Metric[fit(X, Y), score(X, Y), fit_score(X, Y)]"
      ]
     },
     "execution_count": 4,
     "metadata": {},
     "output_type": "execute_result"
    }
   ],
   "source": [
    "similarity.make(\"measure.cka\")"
   ]
  },
  {
   "cell_type": "code",
   "execution_count": 7,
   "metadata": {},
   "outputs": [
    {
     "name": "stderr",
     "output_type": "stream",
     "text": [
      "[autoreload of config_utils failed: Traceback (most recent call last):\n",
      "  File \"c:\\Users\\Nathan Cloos\\Documents\\Research\\Code\\similarity-measures\\.venv\\lib\\site-packages\\IPython\\extensions\\autoreload.py\", line 276, in check\n",
      "    superreload(m, reload, self.old_objects)\n",
      "  File \"c:\\Users\\Nathan Cloos\\Documents\\Research\\Code\\similarity-measures\\.venv\\lib\\site-packages\\IPython\\extensions\\autoreload.py\", line 475, in superreload\n",
      "    module = reload(module)\n",
      "  File \"C:\\Program Files\\Python39\\lib\\importlib\\__init__.py\", line 169, in reload\n",
      "    _bootstrap._exec(spec, module)\n",
      "  File \"<frozen importlib._bootstrap>\", line 613, in _exec\n",
      "  File \"<frozen importlib._bootstrap_external>\", line 850, in exec_module\n",
      "  File \"<frozen importlib._bootstrap>\", line 228, in _call_with_frames_removed\n",
      "  File \"c:\\users\\nathan cloos\\documents\\research\\code\\config-utils\\config_utils\\__init__.py\", line 13, in <module>\n",
      "    register_resolvers()\n",
      "  File \"c:\\users\\nathan cloos\\documents\\research\\code\\config-utils\\config_utils\\omegaconf_resolvers.py\", line 8, in register_resolvers\n",
      "    OmegaConf.register_new_resolver(INTERP_KEYWORD, hierarchical_interpolation)\n",
      "  File \"c:\\Users\\Nathan Cloos\\Documents\\Research\\Code\\similarity-measures\\.venv\\lib\\site-packages\\omegaconf\\omegaconf.py\", line 403, in register_new_resolver\n",
      "    raise ValueError(f\"resolver '{name}' is already registered\")\n",
      "ValueError: resolver 'v' is already registered\n",
      "]\n"
     ]
    },
    {
     "data": {
      "text/plain": [
       "['rsa-euclidean-cosine',\n",
       " 'rsa-euclidean-spearman',\n",
       " 'rsa-euclidean-corr',\n",
       " 'rsa-euclidean-kendall',\n",
       " 'rsa-euclidean-tau_b',\n",
       " 'rsa-euclidean-tau_a',\n",
       " 'rsa-euclidean-rho_a',\n",
       " 'rsa-euclidean-corr_cov',\n",
       " 'rsa-euclidean-cosine_cov',\n",
       " 'rsa-correlation-cosine',\n",
       " 'rsa-correlation-spearman',\n",
       " 'rsa-correlation-corr',\n",
       " 'rsa-correlation-kendall',\n",
       " 'rsa-correlation-tau_b',\n",
       " 'rsa-correlation-tau_a',\n",
       " 'rsa-correlation-rho_a',\n",
       " 'rsa-correlation-corr_cov',\n",
       " 'rsa-correlation-cosine_cov']"
      ]
     },
     "execution_count": 7,
     "metadata": {},
     "output_type": "execute_result"
    }
   ],
   "source": [
    "import jmespath\n",
    "api = similarity.make(None, return_config=True)\n",
    "jmespath.search(\"metric.keys(@)[?starts_with(@, 'rsa-')]\", api)\n",
    "\n"
   ]
  },
  {
   "cell_type": "code",
   "execution_count": 15,
   "metadata": {},
   "outputs": [],
   "source": [
    "jmespath.search('metric.permutation-angular', api)"
   ]
  },
  {
   "cell_type": "code",
   "execution_count": 6,
   "metadata": {},
   "outputs": [
    {
     "data": {
      "text/plain": [
       "['permutation',\n",
       " 'cca',\n",
       " 'cca_mean_sq_corr',\n",
       " 'svcca',\n",
       " 'pwcca',\n",
       " 'procrustes',\n",
       " 'pls',\n",
       " 'linear_regression',\n",
       " 'max_match',\n",
       " 'rsa',\n",
       " 'cka',\n",
       " 'imd']"
      ]
     },
     "execution_count": 6,
     "metadata": {},
     "output_type": "execute_result"
    }
   ],
   "source": [
    "jmespath.search(\"metric.keys(@)[? !contains(@, '-')]\", api)\n",
    "# <=> similarity.make(\"metric\", defaults_only=True)"
   ]
  },
  {
   "cell_type": "code",
   "execution_count": 20,
   "metadata": {},
   "outputs": [
    {
     "name": "stdout",
     "output_type": "stream",
     "text": [
      "Metric[fit(X, Y), score(X, Y), fit_score(X, Y)]\n"
     ]
    }
   ],
   "source": [
    "metric = similarity.make(\"metric.rsa-correlation-spearman\")\n",
    "# similarity.make(\"metric.rsa-*\")\n",
    "print(metric)"
   ]
  },
  {
   "cell_type": "code",
   "execution_count": 21,
   "metadata": {},
   "outputs": [
    {
     "name": "stdout",
     "output_type": "stream",
     "text": [
      "Metric[fit(X, Y), score(X, Y), fit_score(X, Y)]\n"
     ]
    },
    {
     "data": {
      "text/plain": [
       "0.0"
      ]
     },
     "execution_count": 21,
     "metadata": {},
     "output_type": "execute_result"
    }
   ],
   "source": [
    "print(metric)\n",
    "import numpy as np\n",
    "X = np.array([[1, 2, 3], [4, 5, 6]])\n",
    "Y = np.array([[1, 2, 3], [4, 5, 6]])\n",
    "metric.fit_score(X, Y)"
   ]
  },
  {
   "cell_type": "code",
   "execution_count": 22,
   "metadata": {},
   "outputs": [],
   "source": [
    "metrics = similarity.make(\"metric\")"
   ]
  },
  {
   "cell_type": "code",
   "execution_count": null,
   "metadata": {},
   "outputs": [
    {
     "name": "stdout",
     "output_type": "stream",
     "text": [
      "{'permutation': Metric[fit(X, Y), score(X, Y), fit_score(X, Y)], 'cca': Metric[fit(X, Y), score(X, Y), fit_score(X, Y)], 'cca_mean_sq_corr': Metric[fit(X, Y), score(X, Y), fit_score(X, Y)], 'svcca': Metric[fit(X, Y), score(X, Y), fit_score(X, Y)], 'pwcca': Metric[fit(X, Y), score(X, Y), fit_score(X, Y)], 'procrustes': Metric[fit(X, Y), score(X, Y), fit_score(X, Y)], 'pls': Metric[fit(X, Y), score(X, Y), fit_score(X, Y)], 'linear_regression': Metric[fit(X, Y), score(X, Y), fit_score(X, Y)], 'max_match': Metric[fit(X, Y), score(X, Y), fit_score(X, Y)], 'rsa': Metric[fit(X, Y), score(X, Y), fit_score(X, Y)], 'cka': Metric[fit(X, Y), score(X, Y), fit_score(X, Y)], 'imd': Metric[fit(X, Y), score(X, Y), fit_score(X, Y)]}\n"
     ]
    }
   ],
   "source": [
    "print(metrics)"
   ]
  },
  {
   "cell_type": "code",
   "execution_count": null,
   "metadata": {},
   "outputs": [],
   "source": [
    "similarity.make(\"metric.\")"
   ]
  }
 ],
 "metadata": {
  "kernelspec": {
   "display_name": ".venv",
   "language": "python",
   "name": "python3"
  },
  "language_info": {
   "codemirror_mode": {
    "name": "ipython",
    "version": 3
   },
   "file_extension": ".py",
   "mimetype": "text/x-python",
   "name": "python",
   "nbconvert_exporter": "python",
   "pygments_lexer": "ipython3",
   "version": "3.9.8"
  }
 },
 "nbformat": 4,
 "nbformat_minor": 2
}
