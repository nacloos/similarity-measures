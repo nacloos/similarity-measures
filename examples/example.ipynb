{
 "cells": [
  {
   "cell_type": "code",
   "execution_count": 77,
   "metadata": {},
   "outputs": [
    {
     "name": "stdout",
     "output_type": "stream",
     "text": [
      "            procrustes    cca  svcca    cka    rsa    pls\n",
      "netrep            True   True   True  False  False  False\n",
      "brainscore       False  False  False   True  False   True\n",
      "yuanli2333       False  False  False   True  False  False\n",
      "rsatoolbox       False  False  False  False   True  False\n"
     ]
    }
   ],
   "source": [
    "import pandas as pd\n",
    "import similarity\n",
    "\n",
    "backend_cards = similarity.make(package=\"backend:backends\", key=\"cards\", use_cache=False)\n",
    "all_metrics = similarity.make(package=\"backend:backends\", key=\"metric_names\", use_cache=False)\n",
    "\n",
    "backend_metrics = {\n",
    "    k: [metric in backend[\"metrics\"] for metric in all_metrics]\n",
    "    for k, backend in backend_cards.items()\n",
    "}\n",
    "\n",
    "backend_df = pd.DataFrame.from_dict(backend_metrics, orient=\"index\", columns=all_metrics)\n",
    "print(backend_df)"
   ]
  },
  {
   "cell_type": "code",
   "execution_count": 78,
   "metadata": {},
   "outputs": [
    {
     "data": {
      "image/png": "[encoded data removed]",
      "text/plain": [
       "<Figure size 400x300 with 1 Axes>"
      ]
     },
     "metadata": {},
     "output_type": "display_data"
    }
   ],
   "source": [
    "import matplotlib.pyplot as plt\n",
    "import seaborn as sns\n",
    "\n",
    "plt.figure(figsize=(4, 3), dpi=100)\n",
    "sns.heatmap(backend_df, annot=False, cmap=\"viridis\", cbar=False, linewidths=20, linecolor='white')\n",
    "# plt.ylabel(\"Backends\")\n",
    "# plt.xlabel(\"Metrics\")\n",
    "plt.gca().xaxis.tick_top()\n",
    "plt.gca().xaxis.set_label_position('top') \n",
    "plt.tick_params(length=0)  # Removing the small tick bars\n",
    "plt.xticks(rotation=45, ha='left')\n",
    "plt.yticks(rotation=0, va='center')\n",
    "plt.axis('equal')\n",
    "plt.tight_layout()\n",
    "plt.show()"
   ]
  },
  {
   "cell_type": "code",
   "execution_count": 46,
   "metadata": {},
   "outputs": [
    {
     "name": "stdout",
     "output_type": "stream",
     "text": [
      "{'netrep': ['procrustes', 'cca', 'svcca', 'cka'], 'brainscore': ['pls', 'cka', 'rsa'], 'yuanli2333': ['cka'], 'rsatoolbox': ['rsa']}\n",
      "{'procrustes': ['netrep'], 'cca': ['netrep'], 'svcca': ['netrep'], 'cka': ['netrep', 'brainscore', 'yuanli2333'], 'rsa': ['brainscore', 'rsatoolbox'], 'pls': ['brainscore']}\n"
     ]
    }
   ],
   "source": [
    "backend_metrics = similarity.make(package=\"backend:backends\", key=\"metric_by_backend\", use_cache=False)\n",
    "print(backend_metrics)\n",
    "\n",
    "backend_by_metric = similarity.make(package=\"backend:backends\", key=\"backend_by_metric\", use_cache=False)\n",
    "print(backend_by_metric)"
   ]
  },
  {
   "cell_type": "code",
   "execution_count": null,
   "metadata": {},
   "outputs": [],
   "source": []
  }
 ],
 "metadata": {
  "kernelspec": {
   "display_name": ".venv",
   "language": "python",
   "name": "python3"
  },
  "language_info": {
   "codemirror_mode": {
    "name": "ipython",
    "version": 3
   },
   "file_extension": ".py",
   "mimetype": "text/x-python",
   "name": "python",
   "nbconvert_exporter": "python",
   "pygments_lexer": "ipython3",
   "version": "3.9.8"
  }
 },
 "nbformat": 4,
 "nbformat_minor": 2
}
