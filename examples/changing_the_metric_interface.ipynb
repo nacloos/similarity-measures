{
 "cells": [
  {
   "cell_type": "markdown",
   "metadata": {},
   "source": [
    "# Changing the Metric interface"
   ]
  },
  {
   "cell_type": "code",
   "execution_count": 1,
   "metadata": {},
   "outputs": [],
   "source": [
    "%reload_ext autoreload\n",
    "%autoreload 2"
   ]
  },
  {
   "cell_type": "code",
   "execution_count": 14,
   "metadata": {},
   "outputs": [],
   "source": [
    "import numpy as np\n",
    "X = np.random.rand(10, 2)\n",
    "Y = np.random.rand(10, 2)"
   ]
  },
  {
   "cell_type": "code",
   "execution_count": 15,
   "metadata": {},
   "outputs": [],
   "source": [
    "import similarity \n",
    "\n",
    "metric = similarity.make(\n",
    "    package=\"metric\",\n",
    "    key=\"procrustes\",\n",
    "    interface={\"fit_score\": \"eval\"},\n",
    "    use_cache=True\n",
    ")"
   ]
  },
  {
   "cell_type": "code",
   "execution_count": 16,
   "metadata": {},
   "outputs": [
    {
     "name": "stdout",
     "output_type": "stream",
     "text": [
      "{'fit': <bound method Metric._fit_impl of <similarity.metric.metric.Metric object at 0x000001D95F3D04C0>>, 'score': <bound method Metric._score_impl of <similarity.metric.metric.Metric object at 0x000001D95F3D04C0>>, 'eval': <bound method Metric._fit_score_impl of <similarity.metric.metric.Metric object at 0x000001D95F3D04C0>>}\n",
      "0.0\n"
     ]
    }
   ],
   "source": [
    "print(metric.impls)\n",
    "res = metric.eval(X, Y)\n",
    "print(res)"
   ]
  },
  {
   "cell_type": "markdown",
   "metadata": {},
   "source": [
    "The `interface` argument can also be used to make the metric behave like a function."
   ]
  },
  {
   "cell_type": "code",
   "execution_count": 22,
   "metadata": {},
   "outputs": [],
   "source": [
    "metric = similarity.make(\n",
    "    package=\"metric\",\n",
    "    key=\"procrustes\",\n",
    "    interface={\"fit_score\": \"__call__\"},\n",
    "    use_cache=True\n",
    ")"
   ]
  },
  {
   "cell_type": "code",
   "execution_count": 23,
   "metadata": {},
   "outputs": [
    {
     "name": "stdout",
     "output_type": "stream",
     "text": [
      "0.0\n"
     ]
    }
   ],
   "source": [
    "res = metric(X, Y)\n",
    "print(res)"
   ]
  }
 ],
 "metadata": {
  "kernelspec": {
   "display_name": ".venv",
   "language": "python",
   "name": "python3"
  },
  "language_info": {
   "codemirror_mode": {
    "name": "ipython",
    "version": 3
   },
   "file_extension": ".py",
   "mimetype": "text/x-python",
   "name": "python",
   "nbconvert_exporter": "python",
   "pygments_lexer": "ipython3",
   "version": "3.9.8"
  }
 },
 "nbformat": 4,
 "nbformat_minor": 2
}
